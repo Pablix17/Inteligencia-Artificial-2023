{
  "nbformat": 4,
  "nbformat_minor": 0,
  "metadata": {
    "colab": {
      "provenance": [],
      "authorship_tag": "ABX9TyOp7Uhstv/PA17RVMqzWNrO",
      "include_colab_link": true
    },
    "kernelspec": {
      "name": "python3",
      "display_name": "Python 3"
    },
    "language_info": {
      "name": "python"
    }
  },
  "cells": [
    {
      "cell_type": "markdown",
      "metadata": {
        "id": "view-in-github",
        "colab_type": "text"
      },
      "source": [
        "<a href=\"https://colab.research.google.com/github/Pablix17/Inteligencia-Artificial-2023/blob/main/NaiveBayes1.ipynb\" target=\"_parent\"><img src=\"https://colab.research.google.com/assets/colab-badge.svg\" alt=\"Open In Colab\"/></a>"
      ]
    },
    {
      "cell_type": "markdown",
      "source": [
        "# Clasificador Mensajes de spam\n",
        "\n",
        "A continuación se cuenta con un conjunto de datos de entrenamiento, los cuales corresponden a mensajes comúnmente recibidos, adicionalmente se les asigna su correspondiente etiqueta de si es spam o no."
      ],
      "metadata": {
        "id": "W6KTPbEzs2FO"
      }
    },
    {
      "cell_type": "code",
      "execution_count": null,
      "metadata": {
        "id": "wY_GKvV8irrF"
      },
      "outputs": [],
      "source": [
        "from sklearn.feature_extraction.text import CountVectorizer\n",
        "from sklearn.naive_bayes import MultinomialNB\n",
        "from sklearn.pipeline import make_pipeline\n",
        "# Datos de ejemplo: mensajes y sus etiquetas\n",
        "messages = [\"oferta especial solo para ti\",\n",
        "            \"reunión a las 3pm\",\n",
        "            \"gana dinero fácilmente desde tu casa\",\n",
        "            \"cena familiar el domingo\",\n",
        "            \"conviértete en millonario con nuestro sistema\"]\n",
        "labels = [\"spam\", \"no spam\", \"spam\", \"no spam\", \"spam\"]"
      ]
    },
    {
      "cell_type": "markdown",
      "source": [
        "Para ello se emplean funciones como \"CountVectorizer\" para transformar los datos escritos y darles un valor numérico y \"MultinomialNB\" para realizar el correspondiente proceso de entrenamiento en la clasificación, momentos después se le proporcionan mensajes de prueba al modelo ya entrenado y se le pide mostrar a donde lo asignó."
      ],
      "metadata": {
        "id": "oyhxRuCZtVWs"
      }
    },
    {
      "cell_type": "code",
      "source": [
        "model_mnb = make_pipeline(CountVectorizer(), MultinomialNB())\n",
        "model_mnb.fit(messages, labels)\n",
        "\n",
        "new_messages = [\"reunión a las 5pm\", \"descubre cómo ganar dinero fácilmente\",\"se tu propio jefe\"]\n",
        "\n",
        "\n",
        "predicted_labels = model_mnb.predict(new_messages)\n",
        "\n",
        "print(predicted_labels)"
      ],
      "metadata": {
        "colab": {
          "base_uri": "https://localhost:8080/"
        },
        "id": "Ml3_aUIar3pF",
        "outputId": "74d6d360-e1fb-487d-fe92-8a17e104b555"
      },
      "execution_count": null,
      "outputs": [
        {
          "output_type": "stream",
          "name": "stdout",
          "text": [
            "['no spam' 'spam' 'spam']\n"
          ]
        }
      ]
    },
    {
      "cell_type": "markdown",
      "source": [
        "# Conclusiones:\n",
        "\n",
        "1.   Usar Make_pipelines agrupa de forma organizada los pasos de procesamiento de la información, usualmente se acomoda un proceso de transformación de datos, seguido del modelo de procesamiento. De esta manera el código se evidencia más compacto.\n",
        "2.  El clasificador en cuestión, cumplió con realizar la clasificación de forma correcta, el dato que ingresa refiriéndose a una reunión, lo clasifica como no spam, aprendió que reunión en un horario es un dato a resaltar, por lo tanto, no lo enviaría a spam.\n",
        "3. Los mensajes clasificados como spam son aquellos que incluyen ofertas, dinero, oportunidad, etc. como palabras clave.\n",
        "\n"
      ],
      "metadata": {
        "id": "tDJAd-YBt_1h"
      }
    }
  ]
}