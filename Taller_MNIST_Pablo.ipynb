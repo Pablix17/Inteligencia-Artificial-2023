{
  "cells": [
    {
      "cell_type": "markdown",
      "metadata": {
        "id": "view-in-github",
        "colab_type": "text"
      },
      "source": [
        "<a href=\"https://colab.research.google.com/github/Pablix17/Inteligencia-Artificial-2023/blob/main/Taller_MNIST_Pablo.ipynb\" target=\"_parent\"><img src=\"https://colab.research.google.com/assets/colab-badge.svg\" alt=\"Open In Colab\"/></a>"
      ]
    },
    {
      "cell_type": "markdown",
      "metadata": {
        "id": "vxlW3DiL6RW1"
      },
      "source": [
        "# **Librerias y Dataset**\n",
        "\n",
        "Se importan las librerias necesarias para el preprocesamiento, la clasificacion y las medidas de desempeño.adicionalmente se estrae el dataset de MNIST desde keras y se divide en entrenamiento y prueba con el porcentaje recomendado."
      ]
    },
    {
      "cell_type": "code",
      "execution_count": null,
      "metadata": {
        "id": "kkV3aERD6MG-",
        "colab": {
          "base_uri": "https://localhost:8080/"
        },
        "outputId": "2d3f85a3-cdea-4bf0-9aa3-eacfa71e1a65"
      },
      "outputs": [
        {
          "output_type": "stream",
          "name": "stdout",
          "text": [
            "Downloading data from https://storage.googleapis.com/tensorflow/tf-keras-datasets/mnist.npz\n",
            "11490434/11490434 [==============================] - 0s 0us/step\n"
          ]
        }
      ],
      "source": [
        "import tensorflow as tf\n",
        "import matplotlib.pyplot as plt\n",
        "from sklearn.decomposition import PCA\n",
        "import numpy as np\n",
        "from sklearn.svm import SVC\n",
        "from sklearn.metrics import matthews_corrcoef\n",
        "from sklearn.neighbors import KNeighborsClassifier\n",
        "from sklearn.neighbors import DistanceMetric\n",
        "from sklearn.preprocessing import PolynomialFeatures\n",
        "(x_train, y_train), (x_test, y_test) = tf.keras.datasets.mnist.load_data()"
      ]
    },
    {
      "cell_type": "markdown",
      "metadata": {
        "id": "_Qe65BEv8Lz9"
      },
      "source": [
        "# Instrucciones generales.\n",
        "## Conjunto de datos."
      ]
    },
    {
      "cell_type": "markdown",
      "metadata": {
        "id": "kjSropbc7W40"
      },
      "source": [
        "**Ajustes datos de entrada**: Pasar de un arreglo donde hay 60000 datos de ingreso de 28x28 a un ordenamiento de 784, para el caso de entrenamiento, el de prueba pasa de ser un arreglo de 10000 28x28 a 784."
      ]
    },
    {
      "cell_type": "code",
      "execution_count": null,
      "metadata": {
        "colab": {
          "base_uri": "https://localhost:8080/"
        },
        "id": "eLe1Id3X7LKj",
        "outputId": "85dbf344-982d-4f74-ab0a-48ee81f896e7"
      },
      "outputs": [
        {
          "output_type": "stream",
          "name": "stdout",
          "text": [
            "<class 'numpy.ndarray'>\n",
            "<class 'numpy.ndarray'>\n",
            "(60000, 28, 28)\n",
            "(60000,)\n",
            "(10000, 28, 28)\n"
          ]
        }
      ],
      "source": [
        "print(type(x_train))\n",
        "print(type(y_train))\n",
        "print((x_train.shape))\n",
        "print((y_train.shape))\n",
        "print((x_test.shape))"
      ]
    },
    {
      "cell_type": "code",
      "execution_count": null,
      "metadata": {
        "id": "lmTpIfUs7WUR"
      },
      "outputs": [],
      "source": [
        "x_train = x_train.reshape(60000, -1)\n",
        "x_test = x_test.reshape(10000, -1)"
      ]
    },
    {
      "cell_type": "code",
      "execution_count": null,
      "metadata": {
        "colab": {
          "base_uri": "https://localhost:8080/"
        },
        "id": "MzELiQiS70aL",
        "outputId": "63c0330e-098f-434f-a22d-2f5e8183e6ea"
      },
      "outputs": [
        {
          "output_type": "stream",
          "name": "stdout",
          "text": [
            "<class 'numpy.ndarray'>\n",
            "<class 'numpy.ndarray'>\n",
            "(60000, 784)\n",
            "(60000,)\n",
            "(10000, 784)\n"
          ]
        }
      ],
      "source": [
        "print(type(x_train))\n",
        "print(type(y_train))\n",
        "print((x_train.shape))\n",
        "print((y_train.shape))\n",
        "print((x_test.shape))"
      ]
    },
    {
      "cell_type": "markdown",
      "metadata": {
        "id": "L0ohT1Ob8jsT"
      },
      "source": [
        "## Normalización\n",
        "\n",
        "Se realiza la normalización de los datos, de tal manera que cuenten con media cero y desviacion estandar uno.Para cumplir este requerimeinto se emplea StandardScaler."
      ]
    },
    {
      "cell_type": "code",
      "execution_count": null,
      "metadata": {
        "id": "GPH4-7AW8oOj"
      },
      "outputs": [],
      "source": [
        "QUIEROMINMAX=False\n",
        "if QUIEROMINMAX:\n",
        "  from  sklearn.preprocessing import MinMaxScaler\n",
        "  scaleminmax = MinMaxScaler()\n",
        "  scaleminmax.fit(x_train)\n",
        "  x_train=scaleminmax.transform(x_train)\n",
        "  x_test=scaleminmax.transform(x_test)\n",
        "else:\n",
        "  from  sklearn.preprocessing import StandardScaler\n",
        "  scaleStandard = StandardScaler()\n",
        "  scaleStandard.fit(x_train)\n",
        "  x_train=scaleStandard.transform(x_train)\n",
        "  x_test=scaleStandard.transform(x_test)"
      ]
    },
    {
      "cell_type": "markdown",
      "metadata": {
        "id": "HNaIvK04-ztM"
      },
      "source": [
        "## PCA\n",
        "\n",
        "con el fin de ejecutar una reduccion dimensional, se aplica PCA de los 784 componente, se cuentan con 2 graficas con distintas representaciones visuales de la varianza explicada, el primero es directamente la varianza explicada, la segunda es la suma acumulativa de la varianza explicada, de esa manera se ha de vizualisar con mayor facilidad cuanta información es representada hasta cada componente."
      ]
    },
    {
      "cell_type": "code",
      "execution_count": null,
      "metadata": {
        "colab": {
          "base_uri": "https://localhost:8080/",
          "height": 880
        },
        "id": "794_rmVC-2Zv",
        "outputId": "8ae8ad65-c748-4d43-a6f1-bbe178b1c64e"
      },
      "outputs": [
        {
          "output_type": "display_data",
          "data": {
            "text/plain": [
              "<Figure size 640x480 with 1 Axes>"
            ],
            "image/png": "[encoded data removed]"
          },
          "metadata": {}
        },
        {
          "output_type": "display_data",
          "data": {
            "text/plain": [
              "<Figure size 640x480 with 1 Axes>"
            ],
            "image/png": "[encoded data removed]"
          },
          "metadata": {}
        },
        {
          "output_type": "execute_result",
          "data": {
            "text/plain": [
              "<Figure size 640x480 with 0 Axes>"
            ]
          },
          "metadata": {},
          "execution_count": 11
        },
        {
          "output_type": "display_data",
          "data": {
            "text/plain": [
              "<Figure size 640x480 with 0 Axes>"
            ]
          },
          "metadata": {}
        }
      ],
      "source": [
        "pca = PCA(n_components=784)\n",
        "pca.fit(x_train)\n",
        "\n",
        "plt.figure()\n",
        "plt.plot(pca.explained_variance_ratio_)\n",
        "plt.show()\n",
        "plt.figure()\n",
        "plt.plot(np.cumsum(pca.explained_variance_ratio_))\n",
        "plt.show()\n",
        "plt.figure()"
      ]
    },
    {
      "cell_type": "markdown",
      "metadata": {
        "id": "SaYeqlJ8f0eN"
      },
      "source": [
        "Dadas las graficas se selecciona un valor de componentes que explique de forma satisfactoria los datos, sin tener que procesar los 784 componentes, para este caso se toman 215 las cuales dan sustento del 97% de la varianza explicada."
      ]
    },
    {
      "cell_type": "code",
      "execution_count": null,
      "metadata": {
        "colab": {
          "base_uri": "https://localhost:8080/"
        },
        "id": "mHKoy9GiAD91",
        "outputId": "23222540-6309-49f2-c85f-5eb8dad44650"
      },
      "outputs": [
        {
          "output_type": "stream",
          "name": "stdout",
          "text": [
            "con  215 componentes tenemos el  0.883155681176413 De la varianza explicada\n"
          ]
        }
      ],
      "source": [
        "componentes=215\n",
        "print(\"con \", componentes, \"componentes tenemos el \",np.cumsum(pca.explained_variance_ratio_)[componentes],\"De la varianza explicada\")"
      ]
    },
    {
      "cell_type": "markdown",
      "metadata": {
        "id": "vVuut2XJgizU"
      },
      "source": [
        "Finalmente se transforman los datos de test y train para que se rigan bajo las 215 componentes seleccionadas por PCA."
      ]
    },
    {
      "cell_type": "code",
      "execution_count": null,
      "metadata": {
        "id": "4VoKcUImARvS"
      },
      "outputs": [],
      "source": [
        "pca2 = PCA(n_components=componentes)\n",
        "pca2.fit(x_train)\n",
        "x_tr=pca2.transform(x_train)\n",
        "x_te=pca2.transform(x_test)"
      ]
    },
    {
      "cell_type": "markdown",
      "metadata": {
        "id": "f_ImpsrpAcLy"
      },
      "source": [
        "# Maquina de Soporte vectorial"
      ]
    },
    {
      "cell_type": "markdown",
      "metadata": {
        "id": "LiUYbQU2ArHa"
      },
      "source": [
        "Modelo kernel lineal"
      ]
    },
    {
      "cell_type": "code",
      "execution_count": null,
      "metadata": {
        "colab": {
          "base_uri": "https://localhost:8080/",
          "height": 74
        },
        "id": "4BoMawvsAcAz",
        "outputId": "e1c21219-cd49-45fe-a643-a039d7f7d9a4"
      },
      "outputs": [
        {
          "output_type": "execute_result",
          "data": {
            "text/plain": [
              "SVC(kernel='linear')"
            ],
            "text/html": [
              "<style>#sk-container-id-1 {color: black;background-color: white;}#sk-container-id-1 pre{padding: 0;}#sk-container-id-1 div.sk-toggleable {background-color: white;}#sk-container-id-1 label.sk-toggleable__label {cursor: pointer;display: block;width: 100%;margin-bottom: 0;padding: 0.3em;box-sizing: border-box;text-align: center;}#sk-container-id-1 label.sk-toggleable__label-arrow:before {content: \"▸\";float: left;margin-right: 0.25em;color: #696969;}#sk-container-id-1 label.sk-toggleable__label-arrow:hover:before {color: black;}#sk-container-id-1 div.sk-estimator:hover label.sk-toggleable__label-arrow:before {color: black;}#sk-container-id-1 div.sk-toggleable__content {max-height: 0;max-width: 0;overflow: hidden;text-align: left;background-color: #f0f8ff;}#sk-container-id-1 div.sk-toggleable__content pre {margin: 0.2em;color: black;border-radius: 0.25em;background-color: #f0f8ff;}#sk-container-id-1 input.sk-toggleable__control:checked~div.sk-toggleable__content {max-height: 200px;max-width: 100%;overflow: auto;}#sk-container-id-1 input.sk-toggleable__control:checked~label.sk-toggleable__label-arrow:before {content: \"▾\";}#sk-container-id-1 div.sk-estimator input.sk-toggleable__control:checked~label.sk-toggleable__label {background-color: #d4ebff;}#sk-container-id-1 div.sk-label input.sk-toggleable__control:checked~label.sk-toggleable__label {background-color: #d4ebff;}#sk-container-id-1 input.sk-hidden--visually {border: 0;clip: rect(1px 1px 1px 1px);clip: rect(1px, 1px, 1px, 1px);height: 1px;margin: -1px;overflow: hidden;padding: 0;position: absolute;width: 1px;}#sk-container-id-1 div.sk-estimator {font-family: monospace;background-color: #f0f8ff;border: 1px dotted black;border-radius: 0.25em;box-sizing: border-box;margin-bottom: 0.5em;}#sk-container-id-1 div.sk-estimator:hover {background-color: #d4ebff;}#sk-container-id-1 div.sk-parallel-item::after {content: \"\";width: 100%;border-bottom: 1px solid gray;flex-grow: 1;}#sk-container-id-1 div.sk-label:hover label.sk-toggleable__label {background-color: #d4ebff;}#sk-container-id-1 div.sk-serial::before {content: \"\";position: absolute;border-left: 1px solid gray;box-sizing: border-box;top: 0;bottom: 0;left: 50%;z-index: 0;}#sk-container-id-1 div.sk-serial {display: flex;flex-direction: column;align-items: center;background-color: white;padding-right: 0.2em;padding-left: 0.2em;position: relative;}#sk-container-id-1 div.sk-item {position: relative;z-index: 1;}#sk-container-id-1 div.sk-parallel {display: flex;align-items: stretch;justify-content: center;background-color: white;position: relative;}#sk-container-id-1 div.sk-item::before, #sk-container-id-1 div.sk-parallel-item::before {content: \"\";position: absolute;border-left: 1px solid gray;box-sizing: border-box;top: 0;bottom: 0;left: 50%;z-index: -1;}#sk-container-id-1 div.sk-parallel-item {display: flex;flex-direction: column;z-index: 1;position: relative;background-color: white;}#sk-container-id-1 div.sk-parallel-item:first-child::after {align-self: flex-end;width: 50%;}#sk-container-id-1 div.sk-parallel-item:last-child::after {align-self: flex-start;width: 50%;}#sk-container-id-1 div.sk-parallel-item:only-child::after {width: 0;}#sk-container-id-1 div.sk-dashed-wrapped {border: 1px dashed gray;margin: 0 0.4em 0.5em 0.4em;box-sizing: border-box;padding-bottom: 0.4em;background-color: white;}#sk-container-id-1 div.sk-label label {font-family: monospace;font-weight: bold;display: inline-block;line-height: 1.2em;}#sk-container-id-1 div.sk-label-container {text-align: center;}#sk-container-id-1 div.sk-container {/* jupyter's `normalize.less` sets `[hidden] { display: none; }` but bootstrap.min.css set `[hidden] { display: none !important; }` so we also need the `!important` here to be able to override the default hidden behavior on the sphinx rendered scikit-learn.org. See: https://github.com/scikit-learn/scikit-learn/issues/21755 */display: inline-block !important;position: relative;}#sk-container-id-1 div.sk-text-repr-fallback {display: none;}</style><div id=\"sk-container-id-1\" class=\"sk-top-container\"><div class=\"sk-text-repr-fallback\"><pre>SVC(kernel=&#x27;linear&#x27;)</pre><b>In a Jupyter environment, please rerun this cell to show the HTML representation or trust the notebook. <br />On GitHub, the HTML representation is unable to render, please try loading this page with nbviewer.org.</b></div><div class=\"sk-container\" hidden><div class=\"sk-item\"><div class=\"sk-estimator sk-toggleable\"><input class=\"sk-toggleable__control sk-hidden--visually\" id=\"sk-estimator-id-1\" type=\"checkbox\" checked><label for=\"sk-estimator-id-1\" class=\"sk-toggleable__label sk-toggleable__label-arrow\">SVC</label><div class=\"sk-toggleable__content\"><pre>SVC(kernel=&#x27;linear&#x27;)</pre></div></div></div></div></div>"
            ]
          },
          "metadata": {},
          "execution_count": 14
        }
      ],
      "source": [
        "scvlinear=SVC( kernel='linear')\n",
        "scvlinear.fit(x_tr,y_train)"
      ]
    },
    {
      "cell_type": "markdown",
      "metadata": {
        "id": "tpSGCweeAwq6"
      },
      "source": [
        "Desempeño"
      ]
    },
    {
      "cell_type": "code",
      "execution_count": null,
      "metadata": {
        "colab": {
          "base_uri": "https://localhost:8080/"
        },
        "id": "1q7G7ANrA0jF",
        "outputId": "17739846-f47f-40f8-ce2e-e32dd9eedf3d"
      },
      "outputs": [
        {
          "output_type": "stream",
          "name": "stdout",
          "text": [
            "el MCC de SVM linear es:  0.9375583480007085\n"
          ]
        }
      ],
      "source": [
        "mcc_svm_linear=matthews_corrcoef(y_test,scvlinear.predict(x_te))\n",
        "print(\"el MCC de SVM linear es: \",mcc_svm_linear)"
      ]
    },
    {
      "cell_type": "markdown",
      "metadata": {
        "id": "pMzKK7EkA407"
      },
      "source": [
        "Modelo Polinomico orden 2"
      ]
    },
    {
      "cell_type": "code",
      "execution_count": null,
      "metadata": {
        "colab": {
          "base_uri": "https://localhost:8080/",
          "height": 74
        },
        "id": "vQCH-xPTBHcU",
        "outputId": "6ebd98a4-06b2-4c88-d4b7-bc6e3a39e98f"
      },
      "outputs": [
        {
          "output_type": "execute_result",
          "data": {
            "text/plain": [
              "SVC(coef0=0, degree=2, kernel='poly')"
            ],
            "text/html": [
              "<style>#sk-container-id-2 {color: black;background-color: white;}#sk-container-id-2 pre{padding: 0;}#sk-container-id-2 div.sk-toggleable {background-color: white;}#sk-container-id-2 label.sk-toggleable__label {cursor: pointer;display: block;width: 100%;margin-bottom: 0;padding: 0.3em;box-sizing: border-box;text-align: center;}#sk-container-id-2 label.sk-toggleable__label-arrow:before {content: \"▸\";float: left;margin-right: 0.25em;color: #696969;}#sk-container-id-2 label.sk-toggleable__label-arrow:hover:before {color: black;}#sk-container-id-2 div.sk-estimator:hover label.sk-toggleable__label-arrow:before {color: black;}#sk-container-id-2 div.sk-toggleable__content {max-height: 0;max-width: 0;overflow: hidden;text-align: left;background-color: #f0f8ff;}#sk-container-id-2 div.sk-toggleable__content pre {margin: 0.2em;color: black;border-radius: 0.25em;background-color: #f0f8ff;}#sk-container-id-2 input.sk-toggleable__control:checked~div.sk-toggleable__content {max-height: 200px;max-width: 100%;overflow: auto;}#sk-container-id-2 input.sk-toggleable__control:checked~label.sk-toggleable__label-arrow:before {content: \"▾\";}#sk-container-id-2 div.sk-estimator input.sk-toggleable__control:checked~label.sk-toggleable__label {background-color: #d4ebff;}#sk-container-id-2 div.sk-label input.sk-toggleable__control:checked~label.sk-toggleable__label {background-color: #d4ebff;}#sk-container-id-2 input.sk-hidden--visually {border: 0;clip: rect(1px 1px 1px 1px);clip: rect(1px, 1px, 1px, 1px);height: 1px;margin: -1px;overflow: hidden;padding: 0;position: absolute;width: 1px;}#sk-container-id-2 div.sk-estimator {font-family: monospace;background-color: #f0f8ff;border: 1px dotted black;border-radius: 0.25em;box-sizing: border-box;margin-bottom: 0.5em;}#sk-container-id-2 div.sk-estimator:hover {background-color: #d4ebff;}#sk-container-id-2 div.sk-parallel-item::after {content: \"\";width: 100%;border-bottom: 1px solid gray;flex-grow: 1;}#sk-container-id-2 div.sk-label:hover label.sk-toggleable__label {background-color: #d4ebff;}#sk-container-id-2 div.sk-serial::before {content: \"\";position: absolute;border-left: 1px solid gray;box-sizing: border-box;top: 0;bottom: 0;left: 50%;z-index: 0;}#sk-container-id-2 div.sk-serial {display: flex;flex-direction: column;align-items: center;background-color: white;padding-right: 0.2em;padding-left: 0.2em;position: relative;}#sk-container-id-2 div.sk-item {position: relative;z-index: 1;}#sk-container-id-2 div.sk-parallel {display: flex;align-items: stretch;justify-content: center;background-color: white;position: relative;}#sk-container-id-2 div.sk-item::before, #sk-container-id-2 div.sk-parallel-item::before {content: \"\";position: absolute;border-left: 1px solid gray;box-sizing: border-box;top: 0;bottom: 0;left: 50%;z-index: -1;}#sk-container-id-2 div.sk-parallel-item {display: flex;flex-direction: column;z-index: 1;position: relative;background-color: white;}#sk-container-id-2 div.sk-parallel-item:first-child::after {align-self: flex-end;width: 50%;}#sk-container-id-2 div.sk-parallel-item:last-child::after {align-self: flex-start;width: 50%;}#sk-container-id-2 div.sk-parallel-item:only-child::after {width: 0;}#sk-container-id-2 div.sk-dashed-wrapped {border: 1px dashed gray;margin: 0 0.4em 0.5em 0.4em;box-sizing: border-box;padding-bottom: 0.4em;background-color: white;}#sk-container-id-2 div.sk-label label {font-family: monospace;font-weight: bold;display: inline-block;line-height: 1.2em;}#sk-container-id-2 div.sk-label-container {text-align: center;}#sk-container-id-2 div.sk-container {/* jupyter's `normalize.less` sets `[hidden] { display: none; }` but bootstrap.min.css set `[hidden] { display: none !important; }` so we also need the `!important` here to be able to override the default hidden behavior on the sphinx rendered scikit-learn.org. See: https://github.com/scikit-learn/scikit-learn/issues/21755 */display: inline-block !important;position: relative;}#sk-container-id-2 div.sk-text-repr-fallback {display: none;}</style><div id=\"sk-container-id-2\" class=\"sk-top-container\"><div class=\"sk-text-repr-fallback\"><pre>SVC(coef0=0, degree=2, kernel=&#x27;poly&#x27;)</pre><b>In a Jupyter environment, please rerun this cell to show the HTML representation or trust the notebook. <br />On GitHub, the HTML representation is unable to render, please try loading this page with nbviewer.org.</b></div><div class=\"sk-container\" hidden><div class=\"sk-item\"><div class=\"sk-estimator sk-toggleable\"><input class=\"sk-toggleable__control sk-hidden--visually\" id=\"sk-estimator-id-2\" type=\"checkbox\" checked><label for=\"sk-estimator-id-2\" class=\"sk-toggleable__label sk-toggleable__label-arrow\">SVC</label><div class=\"sk-toggleable__content\"><pre>SVC(coef0=0, degree=2, kernel=&#x27;poly&#x27;)</pre></div></div></div></div></div>"
            ]
          },
          "metadata": {},
          "execution_count": 16
        }
      ],
      "source": [
        "scvPoly=SVC(kernel='poly',degree=2,coef0=0)\n",
        "scvPoly.fit(x_tr,y_train)"
      ]
    },
    {
      "cell_type": "markdown",
      "metadata": {
        "id": "0TwC81iQCdjL"
      },
      "source": [
        "Desempeño"
      ]
    },
    {
      "cell_type": "code",
      "execution_count": null,
      "metadata": {
        "colab": {
          "base_uri": "https://localhost:8080/"
        },
        "id": "7huOpDCtDb0b",
        "outputId": "491c6a7e-7ade-4a9f-e7f8-0b9fcde5ca04"
      },
      "outputs": [
        {
          "output_type": "stream",
          "name": "stdout",
          "text": [
            "el MCC de SVM Polinomico de orden 2 es:  0.9699924762072808\n"
          ]
        }
      ],
      "source": [
        "mcc_svm_poly=matthews_corrcoef(y_test,scvPoly.predict(x_te))\n",
        "print(\"el MCC de SVM Polinomico de orden 2 es: \",mcc_svm_poly)"
      ]
    },
    {
      "cell_type": "markdown",
      "metadata": {
        "id": "WHryuBY8EVJk"
      },
      "source": [
        "Modelo RBF"
      ]
    },
    {
      "cell_type": "code",
      "execution_count": null,
      "metadata": {
        "colab": {
          "base_uri": "https://localhost:8080/",
          "height": 74
        },
        "id": "wAC33HZbEblz",
        "outputId": "1fba0e1c-48a2-4007-e799-51a8a27b3571"
      },
      "outputs": [
        {
          "output_type": "execute_result",
          "data": {
            "text/plain": [
              "SVC()"
            ],
            "text/html": [
              "<style>#sk-container-id-3 {color: black;background-color: white;}#sk-container-id-3 pre{padding: 0;}#sk-container-id-3 div.sk-toggleable {background-color: white;}#sk-container-id-3 label.sk-toggleable__label {cursor: pointer;display: block;width: 100%;margin-bottom: 0;padding: 0.3em;box-sizing: border-box;text-align: center;}#sk-container-id-3 label.sk-toggleable__label-arrow:before {content: \"▸\";float: left;margin-right: 0.25em;color: #696969;}#sk-container-id-3 label.sk-toggleable__label-arrow:hover:before {color: black;}#sk-container-id-3 div.sk-estimator:hover label.sk-toggleable__label-arrow:before {color: black;}#sk-container-id-3 div.sk-toggleable__content {max-height: 0;max-width: 0;overflow: hidden;text-align: left;background-color: #f0f8ff;}#sk-container-id-3 div.sk-toggleable__content pre {margin: 0.2em;color: black;border-radius: 0.25em;background-color: #f0f8ff;}#sk-container-id-3 input.sk-toggleable__control:checked~div.sk-toggleable__content {max-height: 200px;max-width: 100%;overflow: auto;}#sk-container-id-3 input.sk-toggleable__control:checked~label.sk-toggleable__label-arrow:before {content: \"▾\";}#sk-container-id-3 div.sk-estimator input.sk-toggleable__control:checked~label.sk-toggleable__label {background-color: #d4ebff;}#sk-container-id-3 div.sk-label input.sk-toggleable__control:checked~label.sk-toggleable__label {background-color: #d4ebff;}#sk-container-id-3 input.sk-hidden--visually {border: 0;clip: rect(1px 1px 1px 1px);clip: rect(1px, 1px, 1px, 1px);height: 1px;margin: -1px;overflow: hidden;padding: 0;position: absolute;width: 1px;}#sk-container-id-3 div.sk-estimator {font-family: monospace;background-color: #f0f8ff;border: 1px dotted black;border-radius: 0.25em;box-sizing: border-box;margin-bottom: 0.5em;}#sk-container-id-3 div.sk-estimator:hover {background-color: #d4ebff;}#sk-container-id-3 div.sk-parallel-item::after {content: \"\";width: 100%;border-bottom: 1px solid gray;flex-grow: 1;}#sk-container-id-3 div.sk-label:hover label.sk-toggleable__label {background-color: #d4ebff;}#sk-container-id-3 div.sk-serial::before {content: \"\";position: absolute;border-left: 1px solid gray;box-sizing: border-box;top: 0;bottom: 0;left: 50%;z-index: 0;}#sk-container-id-3 div.sk-serial {display: flex;flex-direction: column;align-items: center;background-color: white;padding-right: 0.2em;padding-left: 0.2em;position: relative;}#sk-container-id-3 div.sk-item {position: relative;z-index: 1;}#sk-container-id-3 div.sk-parallel {display: flex;align-items: stretch;justify-content: center;background-color: white;position: relative;}#sk-container-id-3 div.sk-item::before, #sk-container-id-3 div.sk-parallel-item::before {content: \"\";position: absolute;border-left: 1px solid gray;box-sizing: border-box;top: 0;bottom: 0;left: 50%;z-index: -1;}#sk-container-id-3 div.sk-parallel-item {display: flex;flex-direction: column;z-index: 1;position: relative;background-color: white;}#sk-container-id-3 div.sk-parallel-item:first-child::after {align-self: flex-end;width: 50%;}#sk-container-id-3 div.sk-parallel-item:last-child::after {align-self: flex-start;width: 50%;}#sk-container-id-3 div.sk-parallel-item:only-child::after {width: 0;}#sk-container-id-3 div.sk-dashed-wrapped {border: 1px dashed gray;margin: 0 0.4em 0.5em 0.4em;box-sizing: border-box;padding-bottom: 0.4em;background-color: white;}#sk-container-id-3 div.sk-label label {font-family: monospace;font-weight: bold;display: inline-block;line-height: 1.2em;}#sk-container-id-3 div.sk-label-container {text-align: center;}#sk-container-id-3 div.sk-container {/* jupyter's `normalize.less` sets `[hidden] { display: none; }` but bootstrap.min.css set `[hidden] { display: none !important; }` so we also need the `!important` here to be able to override the default hidden behavior on the sphinx rendered scikit-learn.org. See: https://github.com/scikit-learn/scikit-learn/issues/21755 */display: inline-block !important;position: relative;}#sk-container-id-3 div.sk-text-repr-fallback {display: none;}</style><div id=\"sk-container-id-3\" class=\"sk-top-container\"><div class=\"sk-text-repr-fallback\"><pre>SVC()</pre><b>In a Jupyter environment, please rerun this cell to show the HTML representation or trust the notebook. <br />On GitHub, the HTML representation is unable to render, please try loading this page with nbviewer.org.</b></div><div class=\"sk-container\" hidden><div class=\"sk-item\"><div class=\"sk-estimator sk-toggleable\"><input class=\"sk-toggleable__control sk-hidden--visually\" id=\"sk-estimator-id-3\" type=\"checkbox\" checked><label for=\"sk-estimator-id-3\" class=\"sk-toggleable__label sk-toggleable__label-arrow\">SVC</label><div class=\"sk-toggleable__content\"><pre>SVC()</pre></div></div></div></div></div>"
            ]
          },
          "metadata": {},
          "execution_count": 18
        }
      ],
      "source": [
        "scvrbf=SVC(kernel='rbf',gamma='scale')\n",
        "scvrbf.fit(x_tr,y_train)"
      ]
    },
    {
      "cell_type": "markdown",
      "metadata": {
        "id": "4FPjvlWxEs5C"
      },
      "source": [
        "Desempeño"
      ]
    },
    {
      "cell_type": "code",
      "execution_count": null,
      "metadata": {
        "colab": {
          "base_uri": "https://localhost:8080/"
        },
        "id": "DfDO8gPLEubv",
        "outputId": "cac5a980-2898-4ace-e233-9c67e6baa020"
      },
      "outputs": [
        {
          "output_type": "stream",
          "name": "stdout",
          "text": [
            "el MCC de SVM RBF es:  0.9661057203068159\n"
          ]
        }
      ],
      "source": [
        "mcc_svm_rbf=matthews_corrcoef(y_test,scvrbf.predict(x_te))\n",
        "print(\"el MCC de SVM RBF es: \",mcc_svm_rbf)"
      ]
    },
    {
      "cell_type": "code",
      "execution_count": null,
      "metadata": {
        "colab": {
          "base_uri": "https://localhost:8080/"
        },
        "id": "LIAMqPG-1CiL",
        "outputId": "b65bff84-84af-4c98-9fd8-447f893cdc16"
      },
      "outputs": [
        {
          "output_type": "stream",
          "name": "stdout",
          "text": [
            "               MODELO  DESEMPEÑO\n",
            "0              Lineal   0.937558\n",
            "1  Polinomico Orden 2   0.969992\n",
            "2                 RBF   0.966106\n"
          ]
        }
      ],
      "source": [
        "import pandas as pd\n",
        "data = {\n",
        "    'MODELO': ['Lineal', 'Polinomico Orden 2', 'RBF'],\n",
        "    'DESEMPEÑO': [mcc_svm_linear,mcc_svm_poly ,mcc_svm_rbf ]\n",
        "\n",
        "}\n",
        "df = pd.DataFrame(data)\n",
        "df.style.set_properties(**{'border': '1px solid black'})\n",
        "print(df)"
      ]
    },
    {
      "cell_type": "markdown",
      "metadata": {
        "id": "mANxiTePGOn8"
      },
      "source": [
        "# KNN\n",
        "\n",
        "Para realizar el modelo de knn, se emplea un for que permite recorrer por distintos valores de K y evaluar su desempeño, entre los parametros se tiene la distancia, que en este trabajo se manejo como euclideana, el dataset de MNIST maneja una representacion de pixeles por escala de grises, entonces una medida de distancia que se base en la diferencia de valores para realizar las comparaciones."
      ]
    },
    {
      "cell_type": "code",
      "execution_count": null,
      "metadata": {
        "colab": {
          "base_uri": "https://localhost:8080/"
        },
        "id": "CbNwSpsqGSUU",
        "outputId": "174d4104-d84a-453d-d384-23baa3678b59"
      },
      "outputs": [
        {
          "output_type": "stream",
          "name": "stdout",
          "text": [
            "el MCC de knn uniforme es:  0.9489875373859415 con k= 1\n",
            "el MCC de knn uniforme es:  0.9396736286052035 con k= 2\n",
            "el MCC de knn uniforme es:  0.9497812471635859 con k= 3\n",
            "el MCC de knn uniforme es:  0.947794542921795 con k= 4\n",
            "el MCC de knn uniforme es:  0.9491167690456991 con k= 5\n",
            "el MCC de knn uniforme es:  0.947675130426615 con k= 6\n",
            "el MCC de knn uniforme es:  0.946337238239014 con k= 7\n",
            "el MCC de knn uniforme es:  0.944571978306682 con k= 8\n",
            "el MCC de knn uniforme es:  0.9438977171556641 con k= 9\n",
            "el MCC de knn uniforme es:  0.9426782619141456 con k= 10\n",
            "el MCC de knn uniforme es:  0.9433429805484609 con k= 11\n",
            "el MCC de knn uniforme es:  0.942344257554764 con k= 12\n",
            "el MCC de knn uniforme es:  0.9430144377519794 con k= 13\n",
            "el MCC de knn uniforme es:  0.9414584080463219 con k= 14\n",
            "el MCC de knn uniforme es:  0.9416819016212565 con k= 15\n",
            "el MCC de knn uniforme es:  0.9406852387735498 con k= 16\n",
            "el MCC de knn uniforme es:  0.9400194280062516 con k= 17\n",
            "el MCC de knn uniforme es:  0.938910722165653 con k= 18\n",
            "el MCC de knn uniforme es:  0.9383558685590917 con k= 19\n"
          ]
        }
      ],
      "source": [
        "k_range = range(1, 20)\n",
        "distance='euclidean'\n",
        "results = []\n",
        "for k in k_range:\n",
        "    knn = KNeighborsClassifier(n_neighbors = k,weights='uniform',metric=distance, metric_params=None,algorithm='brute')\n",
        "    #knn = KNeighborsClassifier(n_neighbors = k)\n",
        "    knn.fit(x_tr, y_train)\n",
        "    mcc_knn_uniform=matthews_corrcoef(y_test,knn.predict(x_te))\n",
        "    print(\"el MCC de knn uniforme es: \",mcc_knn_uniform,'con k=',k)\n",
        "    results.append(mcc_knn_uniform)"
      ]
    },
    {
      "cell_type": "code",
      "execution_count": null,
      "metadata": {
        "colab": {
          "base_uri": "https://localhost:8080/",
          "height": 564
        },
        "id": "-mq2IuiXsbMi",
        "outputId": "b5adc2f6-1c7f-4f1a-a3c1-fc1ab8ab7fea"
      },
      "outputs": [
        {
          "output_type": "display_data",
          "data": {
            "text/plain": [
              "<Figure size 1000x600 with 1 Axes>"
            ],
            "image/png": "[encoded data removed]"
          },
          "metadata": {}
        }
      ],
      "source": [
        "plt.figure(figsize=(10, 6))\n",
        "plt.plot(k_range, results, marker='o', linestyle='-', color='b')\n",
        "plt.title('Valor del MCC vs Valor de k')\n",
        "plt.xlabel('k (Número de vecinos)')\n",
        "plt.ylabel('Valor del MCC')\n",
        "plt.grid(True)\n",
        "plt.show()"
      ]
    },
    {
      "cell_type": "markdown",
      "metadata": {
        "id": "X6NW1Xf9JD0F"
      },
      "source": [
        "Pesos basados en distancia"
      ]
    },
    {
      "cell_type": "code",
      "execution_count": null,
      "metadata": {
        "colab": {
          "base_uri": "https://localhost:8080/"
        },
        "id": "C92J_FONKluX",
        "outputId": "57a01762-3d16-4559-b744-90e148844022"
      },
      "outputs": [
        {
          "output_type": "stream",
          "name": "stdout",
          "text": [
            "el MCC de knn con distancias es:  0.9489875373859415 con k= 1\n",
            "el MCC de knn con distancias es:  0.9489875373859415 con k= 2\n",
            "el MCC de knn con distancias es:  0.9518811002670023 con k= 3\n",
            "el MCC de knn con distancias es:  0.9522155296290958 con k= 4\n",
            "el MCC de knn con distancias es:  0.9504411189514035 con k= 5\n",
            "el MCC de knn con distancias es:  0.9524381334542652 con k= 6\n",
            "el MCC de knn con distancias es:  0.9474408403806104 con k= 7\n",
            "el MCC de knn con distancias es:  0.9488902029323363 con k= 8\n",
            "el MCC de knn con distancias es:  0.9453377356882392 con k= 9\n",
            "el MCC de knn con distancias es:  0.9463385698949758 con k= 10\n",
            "el MCC de knn con distancias es:  0.9444492687628003 con k= 11\n",
            "el MCC de knn con distancias es:  0.9451187131795717 con k= 12\n",
            "el MCC de knn con distancias es:  0.94434280961714 con k= 13\n",
            "el MCC de knn con distancias es:  0.9446753005908504 con k= 14\n",
            "el MCC de knn con distancias es:  0.9429012706127323 con k= 15\n",
            "el MCC de knn con distancias es:  0.9432366222977177 con k= 16\n",
            "el MCC de knn con distancias es:  0.9413504770170602 con k= 17\n",
            "el MCC de knn con distancias es:  0.9409067399480832 con k= 18\n",
            "el MCC de knn con distancias es:  0.9400223437678272 con k= 19\n"
          ]
        }
      ],
      "source": [
        "k_range = range(1, 20)\n",
        "distance='euclidean'\n",
        "results1 = []\n",
        "for k in k_range:\n",
        "    knnd = KNeighborsClassifier(n_neighbors = k,weights='distance',metric=distance, metric_params=None,algorithm='brute')\n",
        "    knnd.fit(x_tr, y_train)\n",
        "    mcc_knnd_distance=matthews_corrcoef(y_test,knnd.predict(x_te))\n",
        "    print(\"el MCC de knn con distancias es: \",mcc_knnd_distance,'con k=',k)\n",
        "    results1.append(mcc_knnd_distance)\n"
      ]
    },
    {
      "cell_type": "code",
      "execution_count": null,
      "metadata": {
        "colab": {
          "base_uri": "https://localhost:8080/",
          "height": 564
        },
        "id": "CRPhCmqPsFdJ",
        "outputId": "6d3b70f0-d5d3-4344-a46c-c7822e3e1b8a"
      },
      "outputs": [
        {
          "output_type": "display_data",
          "data": {
            "text/plain": [
              "<Figure size 1000x600 with 1 Axes>"
            ],
            "image/png": "[encoded data removed]"
          },
          "metadata": {}
        }
      ],
      "source": [
        "plt.figure(figsize=(10, 6))\n",
        "plt.plot(k_range, results1, marker='o', linestyle='-', color='b')\n",
        "plt.title('Valor del MCC vs Valor de k')\n",
        "plt.xlabel('k (Número de vecinos)')\n",
        "plt.ylabel('Valor del MCC')\n",
        "plt.grid(True)\n",
        "plt.show()"
      ]
    },
    {
      "cell_type": "markdown",
      "metadata": {
        "id": "b7RG1U8rK8Ar"
      },
      "source": [
        "# Regresión Logistica"
      ]
    },
    {
      "cell_type": "code",
      "execution_count": null,
      "metadata": {
        "id": "bUt7W8SYXCfY"
      },
      "outputs": [],
      "source": [
        "porcentaje = 0.20\n",
        "filas_seleccionadas = int(  x_tr.shape[0] * porcentaje)\n",
        "indices_aleatorios = np.random.choice(x_tr.shape[0], filas_seleccionadas, replace=False)\n",
        "arreglo_seleccionado = x_tr[indices_aleatorios]\n",
        "y_seleccionado = y_train[indices_aleatorios]"
      ]
    },
    {
      "cell_type": "code",
      "execution_count": null,
      "metadata": {
        "id": "L_GRIvymK7Fk"
      },
      "outputs": [],
      "source": [
        "poli=PolynomialFeatures(degree=2, interaction_only=False, include_bias=True, order='C')\n",
        "Xpoli=poli.fit_transform(arreglo_seleccionado)\n",
        "xtpoli=poli.fit_transform(x_te)"
      ]
    },
    {
      "cell_type": "code",
      "execution_count": null,
      "metadata": {
        "colab": {
          "base_uri": "https://localhost:8080/"
        },
        "id": "EDFIweRjOriN",
        "outputId": "989d50c8-21f1-40f7-e0a8-437bb900fd65"
      },
      "outputs": [
        {
          "output_type": "stream",
          "name": "stdout",
          "text": [
            "1.0\n",
            "[[-3.22586700e-03  5.40526504e-02 -6.69861203e-03 ... -1.23457691e-03\n",
            "  -8.90756486e-04 -1.39117014e-03]\n",
            " [-6.00124280e-03  1.22896957e-02  1.18590168e-03 ... -5.97368573e-03\n",
            "  -1.01679841e-03 -1.02236993e-03]\n",
            " [ 1.83896626e-03  8.38729347e-03 -1.40608203e-02 ...  4.68950805e-03\n",
            "   8.47683202e-05  2.40535293e-04]\n",
            " ...\n",
            " [-2.42461756e-03  1.24042509e-03  2.04395479e-02 ...  1.89257993e-03\n",
            "  -2.14090613e-03  1.40133258e-03]\n",
            " [ 1.30218817e-02 -5.83656041e-02 -2.61362226e-02 ...  4.94793688e-03\n",
            "   1.78745793e-03  5.30046435e-03]\n",
            " [ 8.55192725e-04 -3.04527807e-02  1.79036778e-02 ... -1.88959285e-03\n",
            "   1.07445937e-03  1.83385313e-03]]\n"
          ]
        }
      ],
      "source": [
        "from sklearn.linear_model import LogisticRegression\n",
        "reg2 = LogisticRegression(fit_intercept=False,max_iter=350)\n",
        "reg2.fit(Xpoli, y_seleccionado)\n",
        "print(reg2.score(Xpoli, y_seleccionado))\n",
        "print(reg2.coef_)"
      ]
    },
    {
      "cell_type": "code",
      "execution_count": null,
      "metadata": {
        "colab": {
          "base_uri": "https://localhost:8080/"
        },
        "id": "K5282ncfPWjE",
        "outputId": "01b28c53-444d-4307-a616-0365c4ff5977"
      },
      "outputs": [
        {
          "output_type": "stream",
          "name": "stdout",
          "text": [
            "el MCC de regresión logistica polinomica es:  0.9571027631140236\n"
          ]
        }
      ],
      "source": [
        "mcc_pollog_regression=matthews_corrcoef(y_test,reg2.predict(xtpoli))\n",
        "print(\"el MCC de regresión logistica polinomica es: \",mcc_pollog_regression)"
      ]
    },
    {
      "cell_type": "code",
      "execution_count": null,
      "metadata": {
        "colab": {
          "base_uri": "https://localhost:8080/",
          "height": 74
        },
        "id": "TGFOT2zWPIcU",
        "outputId": "22122867-d162-4b7e-afb3-7303e4e080c3"
      },
      "outputs": [
        {
          "output_type": "execute_result",
          "data": {
            "text/plain": [
              "LogisticRegression(max_iter=1000)"
            ],
            "text/html": [
              "<style>#sk-container-id-6 {color: black;background-color: white;}#sk-container-id-6 pre{padding: 0;}#sk-container-id-6 div.sk-toggleable {background-color: white;}#sk-container-id-6 label.sk-toggleable__label {cursor: pointer;display: block;width: 100%;margin-bottom: 0;padding: 0.3em;box-sizing: border-box;text-align: center;}#sk-container-id-6 label.sk-toggleable__label-arrow:before {content: \"▸\";float: left;margin-right: 0.25em;color: #696969;}#sk-container-id-6 label.sk-toggleable__label-arrow:hover:before {color: black;}#sk-container-id-6 div.sk-estimator:hover label.sk-toggleable__label-arrow:before {color: black;}#sk-container-id-6 div.sk-toggleable__content {max-height: 0;max-width: 0;overflow: hidden;text-align: left;background-color: #f0f8ff;}#sk-container-id-6 div.sk-toggleable__content pre {margin: 0.2em;color: black;border-radius: 0.25em;background-color: #f0f8ff;}#sk-container-id-6 input.sk-toggleable__control:checked~div.sk-toggleable__content {max-height: 200px;max-width: 100%;overflow: auto;}#sk-container-id-6 input.sk-toggleable__control:checked~label.sk-toggleable__label-arrow:before {content: \"▾\";}#sk-container-id-6 div.sk-estimator input.sk-toggleable__control:checked~label.sk-toggleable__label {background-color: #d4ebff;}#sk-container-id-6 div.sk-label input.sk-toggleable__control:checked~label.sk-toggleable__label {background-color: #d4ebff;}#sk-container-id-6 input.sk-hidden--visually {border: 0;clip: rect(1px 1px 1px 1px);clip: rect(1px, 1px, 1px, 1px);height: 1px;margin: -1px;overflow: hidden;padding: 0;position: absolute;width: 1px;}#sk-container-id-6 div.sk-estimator {font-family: monospace;background-color: #f0f8ff;border: 1px dotted black;border-radius: 0.25em;box-sizing: border-box;margin-bottom: 0.5em;}#sk-container-id-6 div.sk-estimator:hover {background-color: #d4ebff;}#sk-container-id-6 div.sk-parallel-item::after {content: \"\";width: 100%;border-bottom: 1px solid gray;flex-grow: 1;}#sk-container-id-6 div.sk-label:hover label.sk-toggleable__label {background-color: #d4ebff;}#sk-container-id-6 div.sk-serial::before {content: \"\";position: absolute;border-left: 1px solid gray;box-sizing: border-box;top: 0;bottom: 0;left: 50%;z-index: 0;}#sk-container-id-6 div.sk-serial {display: flex;flex-direction: column;align-items: center;background-color: white;padding-right: 0.2em;padding-left: 0.2em;position: relative;}#sk-container-id-6 div.sk-item {position: relative;z-index: 1;}#sk-container-id-6 div.sk-parallel {display: flex;align-items: stretch;justify-content: center;background-color: white;position: relative;}#sk-container-id-6 div.sk-item::before, #sk-container-id-6 div.sk-parallel-item::before {content: \"\";position: absolute;border-left: 1px solid gray;box-sizing: border-box;top: 0;bottom: 0;left: 50%;z-index: -1;}#sk-container-id-6 div.sk-parallel-item {display: flex;flex-direction: column;z-index: 1;position: relative;background-color: white;}#sk-container-id-6 div.sk-parallel-item:first-child::after {align-self: flex-end;width: 50%;}#sk-container-id-6 div.sk-parallel-item:last-child::after {align-self: flex-start;width: 50%;}#sk-container-id-6 div.sk-parallel-item:only-child::after {width: 0;}#sk-container-id-6 div.sk-dashed-wrapped {border: 1px dashed gray;margin: 0 0.4em 0.5em 0.4em;box-sizing: border-box;padding-bottom: 0.4em;background-color: white;}#sk-container-id-6 div.sk-label label {font-family: monospace;font-weight: bold;display: inline-block;line-height: 1.2em;}#sk-container-id-6 div.sk-label-container {text-align: center;}#sk-container-id-6 div.sk-container {/* jupyter's `normalize.less` sets `[hidden] { display: none; }` but bootstrap.min.css set `[hidden] { display: none !important; }` so we also need the `!important` here to be able to override the default hidden behavior on the sphinx rendered scikit-learn.org. See: https://github.com/scikit-learn/scikit-learn/issues/21755 */display: inline-block !important;position: relative;}#sk-container-id-6 div.sk-text-repr-fallback {display: none;}</style><div id=\"sk-container-id-6\" class=\"sk-top-container\"><div class=\"sk-text-repr-fallback\"><pre>LogisticRegression(max_iter=1000)</pre><b>In a Jupyter environment, please rerun this cell to show the HTML representation or trust the notebook. <br />On GitHub, the HTML representation is unable to render, please try loading this page with nbviewer.org.</b></div><div class=\"sk-container\" hidden><div class=\"sk-item\"><div class=\"sk-estimator sk-toggleable\"><input class=\"sk-toggleable__control sk-hidden--visually\" id=\"sk-estimator-id-6\" type=\"checkbox\" checked><label for=\"sk-estimator-id-6\" class=\"sk-toggleable__label sk-toggleable__label-arrow\">LogisticRegression</label><div class=\"sk-toggleable__content\"><pre>LogisticRegression(max_iter=1000)</pre></div></div></div></div></div>"
            ]
          },
          "metadata": {},
          "execution_count": 36
        }
      ],
      "source": [
        "reg = LogisticRegression(max_iter=1000)\n",
        "reg.fit(x_tr, y_train)"
      ]
    },
    {
      "cell_type": "code",
      "execution_count": null,
      "metadata": {
        "colab": {
          "base_uri": "https://localhost:8080/"
        },
        "id": "DJIXB95pPUQf",
        "outputId": "135bac7c-76a3-437d-b8aa-fcfd1e75b367"
      },
      "outputs": [
        {
          "output_type": "stream",
          "name": "stdout",
          "text": [
            "el MCC de regresión logistica  es:  0.91998407510011\n"
          ]
        }
      ],
      "source": [
        "mcc_log_regression=matthews_corrcoef(y_test,reg.predict(x_te))\n",
        "print(\"el MCC de regresión logistica  es: \",mcc_log_regression)"
      ]
    },
    {
      "cell_type": "code",
      "execution_count": null,
      "metadata": {
        "colab": {
          "base_uri": "https://localhost:8080/"
        },
        "id": "sdbeXdke2S09",
        "outputId": "5671f4cd-2425-43eb-93bf-a833427d6b35"
      },
      "outputs": [
        {
          "output_type": "stream",
          "name": "stdout",
          "text": [
            "             MODELO  DESEMPEÑO\n",
            "0  Datos Originales   0.920096\n",
            "1  Datos expandidos   0.957103\n"
          ]
        }
      ],
      "source": [
        "import pandas as pd\n",
        "data = {\n",
        "    'MODELO': ['Datos Originales', 'Datos expandidos'],\n",
        "    'DESEMPEÑO': [mcc_log_regression,mcc_pollog_regression ]\n",
        "\n",
        "}\n",
        "df = pd.DataFrame(data)\n",
        "df.style.set_properties(**{'border': '1px solid black'})\n",
        "print(df)"
      ]
    },
    {
      "cell_type": "markdown",
      "metadata": {
        "id": "VlnTlxKQ24Vi"
      },
      "source": [
        "## Discución de Resultados"
      ]
    },
    {
      "cell_type": "code",
      "execution_count": null,
      "metadata": {
        "colab": {
          "base_uri": "https://localhost:8080/"
        },
        "id": "XtYNuuWW2_83",
        "outputId": "9b05a670-3bba-4b89-afb7-3c83d64ade69"
      },
      "outputs": [
        {
          "output_type": "stream",
          "name": "stdout",
          "text": [
            "    CLASIFICADOR              MODELO  DESEMPEÑO RANKING\n",
            "0            SVM              Lineal   0.937558       6\n",
            "1            SVM  Polinomico Orden 2   0.969992       1\n",
            "2            SVM                 RBF   0.966106       2\n",
            "3            KNN            Uniforme   0.949781       5\n",
            "4            KNN           Distancia   0.952438       4\n",
            "5  REG Logistica    Datos Originales   0.919984       7\n",
            "6  REG Logistica    Datos expandidos   0.957103       3\n"
          ]
        }
      ],
      "source": [
        "import pandas as pd\n",
        "data = {\n",
        "    'CLASIFICADOR': ['SVM', 'SVM', 'SVM','KNN','KNN','REG Logistica','REG Logistica'],\n",
        "    'MODELO': ['Lineal', 'Polinomico Orden 2', 'RBF','Uniforme', 'Distancia','Datos Originales', 'Datos expandidos'],\n",
        "    'DESEMPEÑO': [mcc_svm_linear, mcc_svm_poly , mcc_svm_rbf, results[2], results1[5], mcc_log_regression, mcc_pollog_regression],\n",
        "    'RANKING': ['6', '1', '2','5','4','7','3'],\n",
        "}\n",
        "df = pd.DataFrame(data)\n",
        "df.style.set_properties(**{'border': '1px solid black'})\n",
        "print(df)"
      ]
    },
    {
      "cell_type": "markdown",
      "source": [
        "Para empezar, se puede comparar en términos generales por métodos clasificación, basándose en la medida de desempeño proporcionada por el coeficiente de correlación de Matthews sobre el conjunto de prueba y el tiempo que le toma realizar el procesamiento del modelo.\n",
        "\n",
        "Lo primero que se resalta es que el que cuenta en comparación con peor desempeño es la regresión logística con datos originales siendo aproximadamente del 92%, su procesamiento no es tan demorado no como en el otro caso de regresión logística, la polinomial, en este caso tiene un coeficiente de Matthews superior para ser específicos es el tercero mejor. Pero es también la que mas tiempo le toma generar el modelo, dado que no solo es con los datos originales sino al ser polinomial incluye los pares generados por PolinomialFeatures, por los motivos mencionados, ninguno de los dos modelos de regresión logística es el seleccionado como el mejor clasificador de este trabajo. También es importante destacar que en el caso polinomial no se pudo incluir todo el conjunto de entrenamiento, dado que para conjuntos de datos grandes el método no es lo sufrientemente robusto para manejarlos.\n",
        "\n",
        "Continuando con KNN se realizaron 20 pruebas con distintos k, se evidencio que el desempeño tanto para la uniforme, como para la basada en distancias, caía al ir aumentando la cantidad de vecinos por ello se tomaron los mejores de cada una siendo en el caso de uniforme la mejor 3 vecinos, con un desempeño aproximado del 95% y en la de distancias 6 vecinos con un aproximado de 95.2%, los dos valores son buenos estimados, la demora computacional se halla es en iterar k veces para descubrir en cual se halla el mejor caso y luego en la comparación con cada distancia , no es un mal método de clasificación pero hay mejores y más rápidos , también es notorio que es sensible a la elección de hiperparametros y métricas, por ello estos se encuentran en los puestos 5 y 4 respectivamente.\n",
        "\n",
        "Por ultimo queda Maquinas de soporte vectorial, las cuales tuvieron el mejor desempeño en promedio, computacionalmente son moderadamente demoradas, pero cumple su objetivo, también se evidencio una sensibilidad ante el kernel seleccionado, el cual marcó la diferencia entre cual fue el mejor de los 3 modelos, el lineal es simple y el usado comúnmente, pero en este caso no tuvo un desempeño destacable a comparación de los otros dos que se pelean el primer puesto, por una leve diferencia, polinómico de orden 2 se lleva el reconocimiento como mejor método de clasificación para el caso planteado.\n"
      ],
      "metadata": {
        "id": "Cp36XPCcaxOo"
      }
    }
  ],
  "metadata": {
    "colab": {
      "provenance": [],
      "authorship_tag": "ABX9TyNBoT/Rh6Bqh6Z9MPpSeJDL",
      "include_colab_link": true
    },
    "kernelspec": {
      "display_name": "Python 3",
      "name": "python3"
    },
    "language_info": {
      "name": "python"
    }
  },
  "nbformat": 4,
  "nbformat_minor": 0
}